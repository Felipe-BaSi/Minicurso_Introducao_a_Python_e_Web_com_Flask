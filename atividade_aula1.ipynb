{
  "nbformat": 4,
  "nbformat_minor": 0,
  "metadata": {
    "colab": {
      "provenance": [],
      "authorship_tag": "ABX9TyM3LRWchMTOhZq67Hm3PLoT",
      "include_colab_link": true
    },
    "kernelspec": {
      "name": "python3",
      "display_name": "Python 3"
    },
    "language_info": {
      "name": "python"
    }
  },
  "cells": [
    {
      "cell_type": "markdown",
      "metadata": {
        "id": "view-in-github",
        "colab_type": "text"
      },
      "source": [
        "<a href=\"https://colab.research.google.com/github/Felipe-BaSi/Minicurso_Introducao_a_Python_e_Web_com_Flask/blob/main/atividade_aula1.ipynb\" target=\"_parent\"><img src=\"https://colab.research.google.com/assets/colab-badge.svg\" alt=\"Open In Colab\"/></a>"
      ]
    },
    {
      "cell_type": "markdown",
      "metadata": {
        "id": "6b4f92e0"
      },
      "source": [
        "## Lista de questões para a aula 1\n",
        "\n",
        "10 questões abrangendo as funções `print`, `input`, variáveis e operadores matemáticos:\n",
        "***\n",
        "1.  **Crie um código que imprima a mensagem \"Olá, Mundo!\" na tela. Adicione também uma segunda linha com a mensagem \"Atividade 1 da aula 1!\" (Faça utilizando apenas um `print`).**\n",
        "\n",
        "2.  **Crie um código que declare duas variáveis: `primeiro_nome` com o seu primeiro nome e `sobrenome` com o seu sobrenome. Em seguida, imprima o seu nome completo usando essas duas variáveis.**\n",
        "\n",
        "3.  **Crie um código que declare três variáveis numéricas, `num1` com valor 10, `num2` com valor 5 e `num3` com valor 2. Imprima o resultado da soma de `num1` e `num2`, e em uma nova linha, imprima o resultado da multiplicação de `num1` por `num3`.**\n",
        "\n",
        "4.  **Crie um código que solicite ao usuário que digite o seu nome completo. Em seguida, imprima uma mensagem de boas-vindas personalizada, por exemplo: \"Bem-vindo(a), [Nome Completo]! É um prazer te ver por aqui.\"**\n",
        "\n",
        "5.  **Crie um código que solicite ao usuário que digite dois números. Imprima o resultado da multiplicação desses números. Em seguida, imprima o resultado da divisão do primeiro número pelo segundo.**\n",
        "\n",
        "6.  **Crie um código que solicite ao usuário que digite o ano de nascimento dele. Calcule a idade aproximada do usuário e imprima uma mensagem como \"Você tem aproximadamente [idade] anos.\". Considere o ano atual como 2024.**\n",
        "\n",
        "7.  **Crie um código que solicite ao usuário que digite um número inteiro. Verifique se o número é par ou ímpar e imprima uma mensagem indicando o resultado.**\n",
        "\n",
        "8.  **Crie um código que solicite ao usuário que digite a sua altura em metros e o seu peso em quilogramas, e calcule e imprima o Índice de Massa Corporal (IMC). A fórmula do IMC é: peso / (altura * altura). Imprima o resultado formatado com duas casas decimais.**\n",
        "\n",
        "9.  **Crie um código que solicite ao usuário que digite um valor em Reais (R\\$) e converta esse valor para Dólares Americanos (USD), considerando uma taxa de câmbio fixa (por exemplo, 1 USD = 5.00 R\\$). Imprima o valor original em Reais e o valor convertido em Dólares, ambos formatados com duas casas decimais.**\n",
        "\n",
        "10. **Crie um código que solicite ao usuário que digite o raio de um círculo. Calcule e imprima a área e o perímetro desse círculo. A fórmula da área é: Área = π * raio², e a fórmula do perímetro é: Perímetro = 2 * π * raio. Use π (pi) aproximado para 3.14 e formate os resultados com duas casas decimais.**\n",
        "***\n",
        "### Gabarito abaixo:"
      ]
    },
    {
      "cell_type": "code",
      "metadata": {
        "id": "4675ed69"
      },
      "source": [
        "# Questão 1\n",
        "print(\"Olá, Mundo!\\nAtividade 1 da aula 1!\")"
      ],
      "execution_count": null,
      "outputs": []
    },
    {
      "cell_type": "code",
      "metadata": {
        "id": "dae05e01"
      },
      "source": [
        "# Questão 2\n",
        "primeiro_nome = \"SeuPrimeiroNome\" # Substitua pelo seu primeiro nome\n",
        "sobrenome = \"SeuSobrenome\" # Substitua pelo seu sobrenome\n",
        "print(primeiro_nome, sobrenome)"
      ],
      "execution_count": null,
      "outputs": []
    },
    {
      "cell_type": "code",
      "metadata": {
        "id": "71108db5"
      },
      "source": [
        "# Questão 3\n",
        "num1 = 10\n",
        "num2 = 5\n",
        "num3 = 2\n",
        "print(num1 + num2)\n",
        "print(num1 * num3)"
      ],
      "execution_count": null,
      "outputs": []
    },
    {
      "cell_type": "code",
      "metadata": {
        "id": "d52ea973"
      },
      "source": [
        "# Questão 4\n",
        "nome_completo = input(\"Digite seu nome completo: \")\n",
        "print(f\"Bem-vindo(a), {nome_completo}! É um prazer te ver por aqui.\")"
      ],
      "execution_count": null,
      "outputs": []
    },
    {
      "cell_type": "code",
      "metadata": {
        "id": "a2b1cd25"
      },
      "source": [
        "# Questão 5\n",
        "num1_str = input(\"Digite o primeiro número: \")\n",
        "num2_str = input(\"Digite o segundo número: \")\n",
        "num1 = float(num1_str)\n",
        "num2 = float(num2_str)\n",
        "print(num1 * num2)\n",
        "print(num1 / num2)"
      ],
      "execution_count": null,
      "outputs": []
    },
    {
      "cell_type": "code",
      "metadata": {
        "id": "2924acaf"
      },
      "source": [
        "# Questão 6\n",
        "ano_nascimento_str = input(\"Digite o ano do seu nascimento: \")\n",
        "ano_nascimento = int(ano_nascimento_str)\n",
        "idade = 2024 - ano_nascimento\n",
        "print(f\"Você tem aproximadamente {idade} anos.\")"
      ],
      "execution_count": null,
      "outputs": []
    },
    {
      "cell_type": "code",
      "metadata": {
        "id": "142edca5"
      },
      "source": [
        "# Questão 7\n",
        "numero_str = input(\"Digite um número inteiro: \")\n",
        "numero = int(numero_str)\n",
        "if numero % 2 == 0:\n",
        "    print(\"O número é par.\")\n",
        "else:\n",
        "    print(\"O número é ímpar.\")"
      ],
      "execution_count": null,
      "outputs": []
    },
    {
      "cell_type": "code",
      "metadata": {
        "id": "e7accd0d"
      },
      "source": [
        "# Questão 8\n",
        "altura_str = input(\"Digite sua altura em metros (ex: 1.75): \")\n",
        "peso_str = input(\"Digite seu peso em quilogramas (ex: 70): \")\n",
        "altura = float(altura_str)\n",
        "peso = float(peso_str)\n",
        "imc = peso / (altura * altura)\n",
        "print(f\"Seu IMC é: {imc:.2f}\")"
      ],
      "execution_count": null,
      "outputs": []
    },
    {
      "cell_type": "code",
      "metadata": {
        "id": "611cf3c2"
      },
      "source": [
        "# Questão 9\n",
        "reais_str = input(\"Digite o valor em Reais (R$): \")\n",
        "reais = float(reais_str)\n",
        "taxa_cambio = 5.00  # Taxa de câmbio fixa\n",
        "dolares = reais / taxa_cambio\n",
        "print(f\"Valor em Reais: R${reais:.2f}\")\n",
        "print(f\"Valor em Dólares: USD{dolares:.2f}\")"
      ],
      "execution_count": null,
      "outputs": []
    },
    {
      "cell_type": "code",
      "metadata": {
        "id": "b5c70368"
      },
      "source": [
        "# Questão 10\n",
        "raio_str = input(\"Digite o raio do círculo: \")\n",
        "raio = float(raio_str)\n",
        "pi = 3.14\n",
        "area = pi * raio**2\n",
        "perimetro = 2 * pi * raio\n",
        "print(f\"Área do círculo: {area:.2f}\")\n",
        "print(f\"Perímetro do círculo: {perimetro:.2f}\")"
      ],
      "execution_count": null,
      "outputs": []
    }
  ]
}