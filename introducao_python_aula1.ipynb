{
  "nbformat": 4,
  "nbformat_minor": 0,
  "metadata": {
    "colab": {
      "provenance": [],
      "authorship_tag": "ABX9TyPFL+ebYVhuceuLYV/PybKg",
      "include_colab_link": true
    },
    "kernelspec": {
      "name": "python3",
      "display_name": "Python 3"
    },
    "language_info": {
      "name": "python"
    }
  },
  "cells": [
    {
      "cell_type": "markdown",
      "metadata": {
        "id": "view-in-github",
        "colab_type": "text"
      },
      "source": [
        "<a href=\"https://colab.research.google.com/github/Felipe-BaSi/Minicurso_Introducao_a_Python_e_Web_com_Flask/blob/main/introducao_python_aula1.ipynb\" target=\"_parent\"><img src=\"https://colab.research.google.com/assets/colab-badge.svg\" alt=\"Open In Colab\"/></a>"
      ]
    },
    {
      "cell_type": "code",
      "execution_count": null,
      "metadata": {
        "id": "UbI3Fi-Ps_hp"
      },
      "outputs": [],
      "source": [
        "print(\"Olá Mundo\")"
      ]
    },
    {
      "cell_type": "code",
      "source": [
        "# 1. Pede um dado (input) e guarda em uma variável (nome)\n",
        "nome = input(\"Qual é o seu nome? \")\n",
        "\n",
        "# 2. Usa o dado guardado (nome) para imprimir algo (print)\n",
        "print(\"Olá, \" + nome + \"! Bem-vindo(a) ao Python.\")"
      ],
      "metadata": {
        "id": "kg5teM0pQn6X"
      },
      "execution_count": null,
      "outputs": []
    },
    {
      "cell_type": "code",
      "source": [
        "# Variáveis válidas em Python\n",
        "\n",
        "# Variáveis com letras minúsculas\n",
        "nome = \"Python\"\n",
        "idade = 30\n",
        "\n",
        "# Variáveis com letras maiúsculas\n",
        "NOME = \"PYTHON\"\n",
        "IDADE = 30\n",
        "\n",
        "# Variáveis com combinação de letras maiúsculas e minúsculas\n",
        "NomeCompleto = \"Python Programação\"\n",
        "IdadeAtual = 30\n",
        "\n",
        "# Variáveis com números (não podem começar com número)\n",
        "linguagem1 = \"Python\"\n",
        "versao_2 = 3.10\n",
        "\n",
        "# Variáveis com underscore\n",
        "numero_inteiro = 10\n",
        "_variavel_interna = \"privada\"\n",
        "\n",
        "# Variáveis com snake_case (recomendado pelo PEP 8)\n",
        "primeiro_nome = \"João\"\n",
        "sobrenome_usuario = \"Silva\"\n",
        "\n",
        "# Variáveis com camelCase (comum em outras linguagens, mas aceito)\n",
        "primeiroNome = \"Maria\"\n",
        "ultimoNome = \"Souza\"\n",
        "\n",
        "# Atribuição múltipla\n",
        "a, b, c = 1, 2, 3\n",
        "\n",
        "# Atribuição do mesmo valor para várias variáveis\n",
        "x = y = z = 100\n",
        "\n",
        "# Exemplos de variáveis válidas:\n",
        "minha_variavel = 10\n",
        "variavel_com_numero_1 = 20\n",
        "_outra_variavel = 30\n",
        "VARIAVEL_CONSTANTE = 40\n",
        "minhaVariavelCamelCase = 50\n",
        "\n",
        "print(f\"nome: {nome}\")\n",
        "print(f\"idade: {idade}\")\n",
        "print(f\"NOME: {NOME}\")\n",
        "print(f\"IDADE: {IDADE}\")\n",
        "print(f\"NomeCompleto: {NomeCompleto}\")\n",
        "print(f\"IdadeAtual: {IdadeAtual}\")\n",
        "print(f\"linguagem1: {linguagem1}\")\n",
        "print(f\"versao_2: {versao_2}\")\n",
        "print(f\"numero_inteiro: {numero_inteiro}\")\n",
        "print(f\"_variavel_interna: {_variavel_interna}\")\n",
        "print(f\"primeiro_nome: {primeiro_nome}\")\n",
        "print(f\"sobrenome_usuario: {sobrenome_usuario}\")\n",
        "print(f\"primeiroNome: {primeiroNome}\")\n",
        "print(f\"ultimoNome: {ultimoNome}\")\n",
        "print(f\"a, b, c: {a}, {b}, {c}\")\n",
        "print(f\"x, y, z: {x}, {y}, {z}\")"
      ],
      "metadata": {
        "id": "9c7DV-5x4OZn"
      },
      "execution_count": null,
      "outputs": []
    },
    {
      "cell_type": "code",
      "metadata": {
        "id": "840cec82"
      },
      "source": [
        "# Operadores Matemáticos em Python\n",
        "\n",
        "a = 10\n",
        "b = 5\n",
        "\n",
        "# Adição\n",
        "soma = a + b\n",
        "print(f\"Soma: {a} + {b} = {soma}\")\n",
        "\n",
        "# Subtração\n",
        "subtracao = a - b\n",
        "print(f\"Subtração: {a} - {b} = {subtracao}\")\n",
        "\n",
        "# Multiplicação\n",
        "multiplicacao = a * b\n",
        "print(f\"Multiplicação: {a} * {b} = {multiplicacao}\")\n",
        "\n",
        "# Divisão\n",
        "divisao = a / b # Retorna um float\n",
        "print(f\"Divisão: {a} / {b} = {divisao}\")\n",
        "\n",
        "# Divisão Inteira\n",
        "divisao_inteira = a // b # descarta a parte decimal\n",
        "print(f\"Divisão Inteira: {a} // {b} = {divisao_inteira}\")\n",
        "\n",
        "# Módulo (Resto da Divisão)\n",
        "modulo = a % b\n",
        "print(f\"Módulo: {a} % {b} = {modulo}\")\n",
        "\n",
        "# Potência\n",
        "potencia = a ** b # a elevado a b\n",
        "print(f\"Potência: {a} ** {b} = {potencia}\")\n",
        "\n",
        "# Exemplos com números diferentes\n",
        "x = 15\n",
        "y = 4\n",
        "\n",
        "print(f\"\\nExemplos com {x} e {y}:\")\n",
        "print(f\"Soma: {x + y}\")\n",
        "print(f\"Subtração: {x - y}\")\n",
        "print(f\"Multiplicação: {x * y}\")\n",
        "print(f\"Divisão: {x / y}\")\n",
        "print(f\"Divisão Inteira: {x // y}\")\n",
        "print(f\"Módulo: {x % y}\")\n",
        "print(f\"Potência: {x ** y}\")"
      ],
      "execution_count": null,
      "outputs": []
    }
  ]
}